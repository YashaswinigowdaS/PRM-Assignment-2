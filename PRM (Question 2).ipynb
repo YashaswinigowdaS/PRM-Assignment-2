{
 "cells": [
  {
   "cell_type": "code",
   "execution_count": 2,
   "id": "485ca951",
   "metadata": {},
   "outputs": [
    {
     "ename": "SyntaxError",
     "evalue": "invalid character '©' (U+00A9) (1776363908.py, line 30)",
     "output_type": "error",
     "traceback": [
      "\u001b[1;36m  Cell \u001b[1;32mIn[2], line 30\u001b[1;36m\u001b[0m\n\u001b[1;33m    © 2023 GitHub, Inc.\u001b[0m\n\u001b[1;37m    ^\u001b[0m\n\u001b[1;31mSyntaxError\u001b[0m\u001b[1;31m:\u001b[0m invalid character '©' (U+00A9)\n"
     ]
    }
   ],
   "source": [
    "class Triangle():\n",
    "    def __init__(self,lst):\n",
    "        self.lst=lst\n",
    "    def validate_triangle(self,l):\n",
    "        if len(l)==3 and (l[0]+l[1])>l[2]:\n",
    "            return \"Valid Triangle\"         \n",
    "        else:\n",
    "            return \"Invalid Triangle\"\n",
    "class Rectangle():\n",
    "    def __init__(self,lst):\n",
    "        self.lst=lst\n",
    "    def validate_rectangle(self,l):\n",
    "        if len(l)==4 and  (l[0]==l[2]) and (l[1]==l[3]):\n",
    "            return \"Valid Rectangle\"         \n",
    "        else:\n",
    "            return \"Invalid Rectangle\"\n",
    "triang=list(map(int,input(\"Enter the size lenght of traingle : \").split()))\n",
    "rect=list(map(int,input(\"Enter the size lenght of rectangle : \").split()))\n",
    "triangle=Triangle(triang)       \n",
    "print(triangle.validate_triangle(triang))\n",
    "rectangle=Rectangle(rect)\n",
    "print(rectangle.validate_rectangle(rect))\n",
    "\n",
    "# for triangle = a + b > c\n",
    "# enter 3 4 5 \n",
    "\n",
    "# for rectangle = a = c , b = d\n",
    "# enter 2 4 2 4 \n",
    "Footer\n",
    "© 2023 GitHub, Inc.\n",
    "Footer navigation\n",
    "Terms\n",
    "Privacy"
   ]
  },
  {
   "cell_type": "code",
   "execution_count": null,
   "id": "dc58032c",
   "metadata": {},
   "outputs": [],
   "source": []
  }
 ],
 "metadata": {
  "kernelspec": {
   "display_name": "Python 3 (ipykernel)",
   "language": "python",
   "name": "python3"
  },
  "language_info": {
   "codemirror_mode": {
    "name": "ipython",
    "version": 3
   },
   "file_extension": ".py",
   "mimetype": "text/x-python",
   "name": "python",
   "nbconvert_exporter": "python",
   "pygments_lexer": "ipython3",
   "version": "3.11.0"
  }
 },
 "nbformat": 4,
 "nbformat_minor": 5
}
